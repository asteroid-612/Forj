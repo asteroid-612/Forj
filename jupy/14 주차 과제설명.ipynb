{
 "cells": [
  {
   "cell_type": "markdown",
   "metadata": {},
   "source": [
    "## 14 주차 과제설명 \n",
    "\n",
    "###### 수업도 듣지 않고 과제를 해 본 결과 !  !"
   ]
  },
  {
   "cell_type": "markdown",
   "metadata": {},
   "source": [
    "###### 과제구현( testGuess ) \n",
    "\n",
    "1. guess , testguess\n",
    " - 피피티에 나온 어떻게 해야할까? 가 전부 과제인 줄 알았는데 그게 아니고 test guess만이 과제였다. 그래도 수업을 못들어 여전히 괴상한 코드를 짜서 제출하였는데, 다른 조원의 코드를 보니 어떤 과제였는지가 맥락이 잡혔다. 코드가 정상 작동하는 지에 대해서 단위 기준으로 검증을 한다는 것은 알았지만 hangman이나 word를 해보려다가 포기한 나와는 달리 친구들의 코드가 상당해서 그것을 사용하기로 하였다. \n",
    " \n",
    "2. 너의 코드는\n",
    " - 상현이의 코드가 3개(test guess, hangman, word )로 3가지나 되는 구성이어서 테스트가 되는지 알아보기 위해서 사용하다가 모든 코드를 합쳤는데, 원래 상현이가 구현해온 코드는 3가지로 나뉘어져 있어, 단위성을 테스트한다는 취지에 맞았던 점을 미리 말씀드린다.\n",
    "\n",
    "3. 남의 코드는\n",
    " - 예림네에서 가지고 나온 코드는 ( 사실 연지네 조 코드를 발표를 당해서 제대로 보지는 못했다. ) shuffledlist를 사용해 '테스트' 라는 이름에 걸맞게 구현이 되어있었다. 그 방법도 굉장히 좋은 것 같다."
   ]
  },
  {
   "cell_type": "markdown",
   "metadata": {},
   "source": [
    "###### 발표 이후 고친 testGuess"
   ]
  },
  {
   "cell_type": "markdown",
   "metadata": {},
   "source": [
    "word 클래스에 대한 단위 테스트는 여전히 감이 잡히지 않는다 isnotnone이 최선은 아닐 것 같으면서도 어떻게 해야할지는 감이 잘 오지 않는다. \n",
    "\n",
    "hangman 클래스에 대한 단위 테스트는 decrease life를 검증했는데, 여기서 len을 사용해 목숨을 세어주는건 교수님이 말씀하신 hangman클래스의 사람마다의 다양성 덕분에 코드 재사용성을 생각하면 len이 그냥 숫자를 넣어주는 것 보다는 낫지 않을까 생각한다. \n",
    "\n",
    "guess 클래스에 대한 단위 테스트는 randomness가 들어간 test가 더 훌륭하겠지만 displayGuessed 와 displayCurrent, finished를 잘 검증 할 수 있느냐의 문제인것 같다."
   ]
  },
  {
   "cell_type": "code",
   "execution_count": 1,
   "metadata": {
    "collapsed": true
   },
   "outputs": [],
   "source": [
    "#    def testDecreaseLife(self):\n",
    "        # self.assertEqual(self.g2.remainingLives, len(self.g2.text) - 1)\n",
    "        # self.g2.decreaseLife()\n",
    "        # self.assertEqual(self.g2.remainingLives, len(self.g2.text) - 2)\n",
    "        # self.g2.decreaseLife()\n",
    "        # self.assertEqual(self.g2.remainingLives, len(self.g2.text) - 3)\n",
    "        # self.g2.decreaseLife()\n",
    "        # self.assertEqual(self.g2.remainingLives, len(self.g2.text) - 4)\n",
    "        # self.g2.decreaseLife()\n",
    "        # self.assertEqual(self.g2.remainingLives, len(self.g2.text) - 5)\n",
    "        # self.g2.decreaseLife()\n",
    "        # self.assertEqual(self.g2.remainingLives, len(self.g2.text) - 6)\n",
    "        # self.g2.decreaseLife()\n",
    "        # self.assertEqual(self.g2.remainingLives, len(self.g2.text) - 7)\n",
    "## 개선한 코드 ( 코드의 반복 줄임 ) , 범석이의 코드로부터 비롯되었다\n",
    "#        for i in range(1, 8):\n",
    "#            self.assertEqual(self.g2.remainingLives, len(self.g2.text) - i)\n",
    "#            self.g2.decreaseLife()"
   ]
  },
  {
   "cell_type": "markdown",
   "metadata": {},
   "source": [
    "코드의 엄청난 반복을 획기적으로 줄여보고 싶었으나 string으로 assertEqual 을 사용한 경우가 대다수여서 고치기가 힘들 것 같다. "
   ]
  },
  {
   "cell_type": "code",
   "execution_count": 2,
   "metadata": {
    "collapsed": true
   },
   "outputs": [],
   "source": [
    "# def testrandFromDB(self):\n",
    "    #     # word_prev = self.word1.randFromDB()\n",
    "    #     # word_current = self.word1.randFromDB()\n",
    "    #     #\n",
    "    #     # self.assertIsNotNone(word_prev)\n",
    "    #     # self.assertIsNotNone(word_current)  # 열개? randomness 보장?\n",
    "    ### 수정한 코드 . 첫 코드는 상현이의 코드에서 시작되었다. \n",
    "    #     wordlist = []\n",
    "    #     for i in range(10):\n",
    "    #         wordlist.append(self.word1.randFromDB())\n",
    "    #     # 가장 마지막 random word 가 word1에 저장되어있음\n",
    "    #     count = 0\n",
    "    #     for word in wordlist:\n",
    "    #         if word == self.word1:\n",
    "    #             count += 1\n",
    "    #         else:\n",
    "    #             continue\n",
    "    # \n",
    "    #     if count >= 5:\n",
    "    #         return False\n",
    "    #     else:\n",
    "    #         print(\"random is going well!\")"
   ]
  },
  {
   "cell_type": "markdown",
   "metadata": {},
   "source": [
    "그래도 교수님의 조언을 따라 리스트를 만들어 체크하는 방법으로 해보았다. 적당한 random을 평가하려면 count의 기준값을 무엇으로 줘야할지 잘 모르겠지만 일단은 5로 잡고 10번 단어를뽑아오고 마지막 단어와 같은 단어가 리스트안에 5번 이상 ( 꼭 한번은 있을테니 ) 생기는 경우는 False를 return해주도록 했다."
   ]
  },
  {
   "cell_type": "code",
   "execution_count": 3,
   "metadata": {
    "collapsed": true
   },
   "outputs": [],
   "source": [
    " # def testGuess(self):\n",
    "    #     self.assertIsNotNone(self.g1.guessedChars)\n",
    "    #     self.assertEqual(self.g1.guessedChars, {'', 'e', 'n'})\n",
    "    #     self.assertEqual(self.g1.currentStatus, '_e_____')\n",
    "    #     self.assertEqual(self.g1.displayCurrent(), '_ e _ _ _ _ _ ')\n",
    "    # \n",
    "    #     self.assertTrue(self.g1.guess('a'))\n",
    "    #     self.assertEqual(self.g1.guessedChars, {'', 'a', 'e', 'n'})\n",
    "    #     self.assertEqual(self.g1.currentStatus, '_e_a___')\n",
    "    #     self.assertEqual(self.g1.displayCurrent(), '_ e _ a _ _ _ ')\n",
    "    #     self.assertFalse(self.g1.finished())\n",
    "    # \n",
    "    #     self.assertTrue(self.g1.guess('t'))\n",
    "    #     self.assertEqual(self.g1.guessedChars, {'', 't', 'a', 'e', 'n'})\n",
    "    #     self.assertEqual(self.g1.currentStatus, '_e_a__t')\n",
    "    #     self.assertEqual(self.g1.displayCurrent(), '_ e _ a _ _ t ')\n",
    "    #     self.assertFalse(self.g1.finished())\n",
    "    # \n",
    "    #     self.assertTrue(self.g1.guess('u'))\n",
    "    #     self.assertEqual(self.g1.guessedChars, {'', 'u', 't', 'a', 'e', 'n'})\n",
    "    #     self.assertEqual(self.g1.currentStatus, '_e_au_t')\n",
    "    #     self.assertEqual(self.g1.displayCurrent(), '_ e _ a u _ t ')\n",
    "    #     self.assertFalse(self.g1.finished())\n",
    "    # \n",
    "    #     self.assertFalse(self.g1.guess('b'))\n",
    "    #     self.assertEqual(self.g1.guessedChars, {'', 'b', 'u', 't', 'a', 'e', 'n'})\n",
    "    #     self.assertEqual(self.g1.currentStatus, '_e_au_t')\n",
    "    #     self.assertEqual(self.g1.displayCurrent(), '_ e _ a u _ t ')\n",
    "    #     self.assertFalse(self.g1.finished())"
   ]
  },
  {
   "cell_type": "markdown",
   "metadata": {},
   "source": [
    "guess 에 대한 test는 이런식으로 전부 합쳐질 수 있게 했다 만약 어디 하나에서 잘못 되면 에러가 생길테니.. 이것도 이것보다 짧게 만들어주고 싶었지만 string이 너무 강력하게 immutable하므로 안하기로 한다. "
   ]
  },
  {
   "cell_type": "markdown",
   "metadata": {},
   "source": [
    "#### 이번 과제 느낀점\n",
    "\n",
    "조별과제할때 나서서 말하다가 발표하지 말자. ( 수업 안들었을때 )\n",
    "수업에는 참여해서 꼭 어떻게 흐름을 잡야야할지 알도록 하자. \n",
    "\n",
    "\n",
    "저번 과제 느낀점에 마음이 아팠다고 적어서 피드백을 주셨었는데 ( ^^ ) 사실 코드리뷰하면서 마음아픈 적은 많았다 그렇지만 말씀대로 정말 얻어가는게 많고 많은 사람들이 다르게 생각하고 있다는 것을 계속해서 상기시켜주는 과목이기 떄문에 나에게 깨달음을 주는 것 같다. 마음이 아플만큼 어려웠던 과제도 몇몇개 있었지만 언제까지고 쉬운문제를 풀어서는 늘지 않을것을 알기 때문에 .. \n",
    "\n",
    "단위 테스트가 많이 중요한지 아직은 잘 모르겠지만 파일이 여러개 엮이면서 생기는 일은 상상을 초월할 것 같으므로 유익한 내용이었을거라고 짐작한다. "
   ]
  }
 ],
 "metadata": {
  "kernelspec": {
   "display_name": "Python 3",
   "language": "python",
   "name": "python3"
  },
  "language_info": {
   "codemirror_mode": {
    "name": "ipython",
    "version": 3
   },
   "file_extension": ".py",
   "mimetype": "text/x-python",
   "name": "python",
   "nbconvert_exporter": "python",
   "pygments_lexer": "ipython3",
   "version": "3.6.1"
  }
 },
 "nbformat": 4,
 "nbformat_minor": 2
}
