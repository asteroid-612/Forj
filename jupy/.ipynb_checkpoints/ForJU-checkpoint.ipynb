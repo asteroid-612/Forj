{
 "cells": [
  {
   "cell_type": "code",
   "execution_count": 5,
   "metadata": {},
   "outputs": [
    {
     "ename": "TabError",
     "evalue": "inconsistent use of tabs and spaces in indentation (<ipython-input-5-027fa3029bf9>, line 39)",
     "output_type": "error",
     "traceback": [
      "\u001b[0;36m  File \u001b[0;32m\"<ipython-input-5-027fa3029bf9>\"\u001b[0;36m, line \u001b[0;32m39\u001b[0m\n\u001b[0;31m    if p['Name'] == parse[1]:\u001b[0m\n\u001b[0m                             ^\u001b[0m\n\u001b[0;31mTabError\u001b[0m\u001b[0;31m:\u001b[0m inconsistent use of tabs and spaces in indentation\n"
     ]
    }
   ],
   "source": [
    "import pickle\n",
    "\n",
    "dbfilename = 'test3_4.dat'\n",
    "\n",
    "def readScoreDB():\n",
    "\ttry:\n",
    "\t\tfH = open(dbfilename, 'rb')\n",
    "\texcept FileNotFoundError as e:\n",
    "\t\tprint(\"New DB: \", dbfilename)\n",
    "\t\treturn []\n",
    "\n",
    "\tscdb = []\n",
    "\ttry:\n",
    "\t\tscdb =  pickle.load(fH)\n",
    "\texcept:\n",
    "\t\tprint(\"Empty DB: \", dbfilename)\n",
    "\telse:\n",
    "\t\tprint(\"Open DB: \", dbfilename)\n",
    "\tfH.close()\n",
    "\treturn scdb\n",
    "\n",
    "\n",
    "# write the data into person db\n",
    "def writeScoreDB(scdb):\n",
    "    fH = open(dbfilename, 'wb') #binary형식으로write\n",
    "    pickle.dump(scdb, fH)\n",
    "    fH.close() #file close\n",
    "\n",
    "def doScoreDB(scdb):\n",
    "\twhile(True):\n",
    "\t\tinputstr = (input(\"Score DB > \"))\n",
    "\t\tif inputstr == \"\": continue\n",
    "\t\tparse = inputstr.split(\" \")\n",
    "\t\tif parse[0] == 'add':\n",
    "\t\t\trecord = {'Name':parse[1], 'Age':parse[2], 'Score':parse[3]}\n",
    "\t\t\tscdb += [record]\n",
    "\t\telif parse[0] == 'del':  #name 이 같은사람을 모두 제거.\n",
    "\t\t\tfor p in scdb:\n",
    "                if p['Name'] == parse[1]:\n",
    "                    \n",
    "                    rmlist.append(p)\n",
    "                if p in rmlist:\n",
    "                    scdb.remove(p)\n",
    "\t\telif parse[0] == 'show':\n",
    "\t\t\tsortKey ='Name' if len(parse) == 1 else parse[1]\n",
    "\t\t\tshowScoreDB(scdb, sortKey)\n",
    "\t\telif parse[0] == 'quit':\n",
    "\t\t\tbreak\n",
    "\t\telse:\n",
    "\t\t\tprint(\"Invalid command: \" + parse[0])\n",
    "\t\t\t\n",
    "\n",
    "def showScoreDB(scdb, keyname):\n",
    "\tfor p in sorted(scdb, key=lambda person: person[keyname]):\n",
    "\t\tfor attr in sorted(p):\n",
    "\t\t\tprint(attr + \"=\" + p[attr], end=' ')\n",
    "\t\tprint()\n",
    "\t\n",
    "\n",
    "\n",
    "scoredb = readScoreDB()\n",
    "doScoreDB(scoredb)\n",
    "writeScoreDB(scoredb)\n",
    "rmlist=[]"
   ]
  },
  {
   "cell_type": "code",
   "execution_count": 1,
   "metadata": {},
   "outputs": [
    {
     "name": "stdout",
     "output_type": "stream",
     "text": [
      "[1, 2, 3]\n"
     ]
    }
   ],
   "source": [
    "list1=[1,2,3,4]\n",
    "list2=[5,4]\n",
    "for a in list1:\n",
    "    if a in list2:\n",
    "        list1.remove(a)\n",
    "        \n",
    "print(list1)"
   ]
  },
  {
   "cell_type": "code",
   "execution_count": 2,
   "metadata": {},
   "outputs": [
    {
     "data": {
      "text/plain": [
       "'1079'"
      ]
     },
     "execution_count": 2,
     "metadata": {},
     "output_type": "execute_result"
    }
   ],
   "source": [
    "'10' + '79'"
   ]
  },
  {
   "cell_type": "code",
   "execution_count": 14,
   "metadata": {},
   "outputs": [
    {
     "name": "stdout",
     "output_type": "stream",
     "text": [
      "<class 'str'>\n",
      "<class 'str'>\n",
      "<class 'str'>\n",
      "<class 'str'>\n",
      "<class 'str'>\n",
      "<class 'str'>\n",
      "<class 'str'>\n",
      "<class 'str'>\n",
      "<class 'str'>\n"
     ]
    }
   ],
   "source": [
    "a = \"a23pp1l5e\"\n",
    "for j in a:\n",
    "    print(type(j))"
   ]
  },
  {
   "cell_type": "code",
   "execution_count": 4,
   "metadata": {},
   "outputs": [
    {
     "data": {
      "text/plain": [
       "89"
      ]
     },
     "execution_count": 4,
     "metadata": {},
     "output_type": "execute_result"
    }
   ],
   "source": [
    "int('10') + 79"
   ]
  },
  {
   "cell_type": "code",
   "execution_count": 2,
   "metadata": {},
   "outputs": [
    {
     "name": "stdout",
     "output_type": "stream",
     "text": [
      "\n",
      "*\n",
      "**\n",
      "***\n",
      "****\n"
     ]
    }
   ],
   "source": [
    "for i in range(5):\n",
    "    print(\"*\"*i)"
   ]
  },
  {
   "cell_type": "code",
   "execution_count": 3,
   "metadata": {},
   "outputs": [
    {
     "name": "stdout",
     "output_type": "stream",
     "text": [
      "input number : 9\n",
      "\n",
      "0\n",
      "00\n",
      "000\n",
      "0000\n",
      "00000\n",
      "000000\n",
      "0000000\n",
      "00000000\n"
     ]
    }
   ],
   "source": [
    "a = int(input(\"input number : \"))\n",
    "\n",
    "for x in range(a):\n",
    "    print(\"0\"*x)"
   ]
  },
  {
   "cell_type": "code",
   "execution_count": 6,
   "metadata": {
    "collapsed": true
   },
   "outputs": [],
   "source": [
    "a = \"1234ab56cd78e\""
   ]
  },
  {
   "cell_type": "code",
   "execution_count": 11,
   "metadata": {},
   "outputs": [
    {
     "name": "stdout",
     "output_type": "stream",
     "text": [
      "This is string []\n",
      "This is integer []\n"
     ]
    }
   ],
   "source": [
    "a = \"1234ab56cd78e\"\n",
    "strlist = []\n",
    "intlist = []\n",
    "for j in a:\n",
    "    if type(j) == \"str\":\n",
    "        strlist.append(j)\n",
    "    elif type(j) == \"int\":\n",
    "        intlist.append(j)\n",
    "print(\"This is string\",strlist)\n",
    "print(\"This is integer\",intlist)"
   ]
  },
  {
   "cell_type": "code",
   "execution_count": 15,
   "metadata": {},
   "outputs": [
    {
     "name": "stdout",
     "output_type": "stream",
     "text": [
      "msg =  Happy Birthday\n",
      "Old msg Happy Birthday\n",
      "New msg Happy BirthdayTo You\n"
     ]
    }
   ],
   "source": [
    "def modify1(s):\n",
    "    s += \"To You\"\n",
    "    return s\n",
    "\n",
    "msg = \"Happy Birthday\"\n",
    "print(\"msg = \",msg)\n",
    "\n",
    "newMsg = modify1(msg)\n",
    "print(\"Old msg\", msg)\n",
    "print(\"New msg\",newMsg)"
   ]
  },
  {
   "cell_type": "code",
   "execution_count": 1,
   "metadata": {
    "collapsed": true
   },
   "outputs": [],
   "source": [
    "friends = [{'수정':'010'}]"
   ]
  },
  {
   "cell_type": "code",
   "execution_count": 4,
   "metadata": {},
   "outputs": [
    {
     "name": "stdout",
     "output_type": "stream",
     "text": [
      "NO\n"
     ]
    }
   ],
   "source": [
    "a = '수정'\n",
    "for k in friends:\n",
    "    if a == k:\n",
    "        print(\"yes\")\n",
    "    else:\n",
    "        print(\"NO\")"
   ]
  },
  {
   "cell_type": "code",
   "execution_count": 6,
   "metadata": {},
   "outputs": [
    {
     "name": "stdout",
     "output_type": "stream",
     "text": [
      "{'수정': '010'}\n"
     ]
    }
   ],
   "source": [
    "print(friends[0])"
   ]
  },
  {
   "cell_type": "code",
   "execution_count": 7,
   "metadata": {},
   "outputs": [
    {
     "data": {
      "text/plain": [
       "1"
      ]
     },
     "execution_count": 7,
     "metadata": {},
     "output_type": "execute_result"
    }
   ],
   "source": [
    "len(friends)"
   ]
  },
  {
   "cell_type": "code",
   "execution_count": 8,
   "metadata": {},
   "outputs": [
    {
     "ename": "TypeError",
     "evalue": "descriptor 'remove' requires a 'list' object but received a 'str'",
     "output_type": "error",
     "traceback": [
      "\u001b[0;31m---------------------------------------------------------------------------\u001b[0m",
      "\u001b[0;31mTypeError\u001b[0m                                 Traceback (most recent call last)",
      "\u001b[0;32m<ipython-input-8-f73760237634>\u001b[0m in \u001b[0;36m<module>\u001b[0;34m()\u001b[0m\n\u001b[0;32m----> 1\u001b[0;31m \u001b[0mlist\u001b[0m\u001b[0;34m.\u001b[0m\u001b[0mremove\u001b[0m\u001b[0;34m(\u001b[0m\u001b[0;34m'수정'\u001b[0m\u001b[0;34m)\u001b[0m\u001b[0;34m\u001b[0m\u001b[0m\n\u001b[0m",
      "\u001b[0;31mTypeError\u001b[0m: descriptor 'remove' requires a 'list' object but received a 'str'"
     ]
    }
   ],
   "source": [
    "list.remove('수정')"
   ]
  },
  {
   "cell_type": "code",
   "execution_count": 14,
   "metadata": {},
   "outputs": [],
   "source": [
    "friends.remove({'수정':'010'})"
   ]
  },
  {
   "cell_type": "code",
   "execution_count": 15,
   "metadata": {},
   "outputs": [
    {
     "name": "stdout",
     "output_type": "stream",
     "text": [
      "[]\n"
     ]
    }
   ],
   "source": [
    "print(friends)"
   ]
  },
  {
   "cell_type": "code",
   "execution_count": 16,
   "metadata": {
    "collapsed": true
   },
   "outputs": [],
   "source": [
    "friends = [{'수정':'010'}]"
   ]
  },
  {
   "cell_type": "code",
   "execution_count": 19,
   "metadata": {},
   "outputs": [],
   "source": [
    "a = friends[0]"
   ]
  },
  {
   "cell_type": "code",
   "execution_count": 20,
   "metadata": {
    "collapsed": true
   },
   "outputs": [],
   "source": [
    "friends.remove(a)"
   ]
  },
  {
   "cell_type": "code",
   "execution_count": 21,
   "metadata": {},
   "outputs": [
    {
     "name": "stdout",
     "output_type": "stream",
     "text": [
      "[]\n"
     ]
    }
   ],
   "source": [
    "print(friends)"
   ]
  },
  {
   "cell_type": "code",
   "execution_count": 22,
   "metadata": {
    "collapsed": true
   },
   "outputs": [],
   "source": [
    "friends = [{'수정':'010'}]"
   ]
  },
  {
   "cell_type": "code",
   "execution_count": 23,
   "metadata": {
    "collapsed": true
   },
   "outputs": [],
   "source": [
    "a = '수정'"
   ]
  },
  {
   "cell_type": "code",
   "execution_count": 24,
   "metadata": {},
   "outputs": [
    {
     "data": {
      "text/plain": [
       "'010'"
      ]
     },
     "execution_count": 24,
     "metadata": {},
     "output_type": "execute_result"
    }
   ],
   "source": [
    "friends[0][a]"
   ]
  },
  {
   "cell_type": "code",
   "execution_count": 25,
   "metadata": {},
   "outputs": [
    {
     "ename": "TypeError",
     "evalue": "list indices must be integers or slices, not str",
     "output_type": "error",
     "traceback": [
      "\u001b[0;31m---------------------------------------------------------------------------\u001b[0m",
      "\u001b[0;31mTypeError\u001b[0m                                 Traceback (most recent call last)",
      "\u001b[0;32m<ipython-input-25-700b25e72690>\u001b[0m in \u001b[0;36m<module>\u001b[0;34m()\u001b[0m\n\u001b[0;32m----> 1\u001b[0;31m \u001b[0mfriends\u001b[0m\u001b[0;34m[\u001b[0m\u001b[0ma\u001b[0m\u001b[0;34m]\u001b[0m\u001b[0;34m\u001b[0m\u001b[0m\n\u001b[0m",
      "\u001b[0;31mTypeError\u001b[0m: list indices must be integers or slices, not str"
     ]
    }
   ],
   "source": [
    "friends[a]"
   ]
  },
  {
   "cell_type": "code",
   "execution_count": null,
   "metadata": {
    "collapsed": true
   },
   "outputs": [],
   "source": []
  }
 ],
 "metadata": {
  "kernelspec": {
   "display_name": "Python 3",
   "language": "python",
   "name": "python3"
  },
  "language_info": {
   "codemirror_mode": {
    "name": "ipython",
    "version": 3
   },
   "file_extension": ".py",
   "mimetype": "text/x-python",
   "name": "python",
   "nbconvert_exporter": "python",
   "pygments_lexer": "ipython3",
   "version": "3.6.1"
  }
 },
 "nbformat": 4,
 "nbformat_minor": 2
}
