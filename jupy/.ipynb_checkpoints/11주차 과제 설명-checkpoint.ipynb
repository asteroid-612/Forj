{
 "cells": [
  {
   "cell_type": "markdown",
   "metadata": {},
   "source": [
    "## 소프트웨어 프로젝트 2 - 11주차 과제설명"
   ]
  },
  {
   "cell_type": "markdown",
   "metadata": {},
   "source": [
    "### 코드에 대한 설명"
   ]
  },
  {
   "cell_type": "markdown",
   "metadata": {},
   "source": [
    "1. Button Clicked 함수 \n",
    "\n",
    " - 예외처리가 전부 되는지에 대해서 부정적으로 말씀하셨지만, 6(3) 같은 사람의 식과 파이썬이 하는 식이 다른 것들을 빼고는 나의 과제에서는 try: | except: 에서 except에 ( broad exception 에러가 나기는 하지만. ) 모든 예외가 걸러지는 것으로 예상된다. exception 에는 syntax, zerodivision, type, value error 등이 생긴다. 이 이상의 에러가 발생하는 지에 대해서는 알 수 없다. \n",
    "\n",
    "2. constantDef 함수\n",
    "\n",
    " - 확실히 이 부분은 함수로 구현하는 것보다는 리스트 안의 순서쌍이나 딕셔너리 ( 순서의 문제가 존재하지만 ) 로 처리하는 것이 나을 듯 싶다. 함수를 하는건 조금 오버였다. ( 별 생각은 없었고, 피피티에서 모듈로 처리하는건 어떨까? 라는 말을 보고 했던 일이었다. ) "
   ]
  },
  {
   "cell_type": "code",
   "execution_count": 1,
   "metadata": {
    "collapsed": true
   },
   "outputs": [],
   "source": [
    "# def buttonClicked(self):\n",
    "    #     button = self.sender()\n",
    "    #     key = button.text()\n",
    "    # \n",
    "    #     if key == '=':\n",
    "    #         # eval해서 이상한 일이 생길때\n",
    "    #         try:\n",
    "    #             result = str(eval(self.display.text()))\n",
    "    #             self.display.setText(result)\n",
    "    #         except:\n",
    "    #             # broad exception.. 어떠한 에러가 발생하는 경우, syntax,zero,type ...\n",
    "    #             # 에러가 발생하는 input을 지우고 에러가 발생했다는 메세지박스를 띄운다.\n",
    "    #             # time...을 사용해서 멈춰두고 싶었으나 불가능했음. 차선.\n",
    "    #             self.display.setText('')\n",
    "    #             QMessageBox.question(self, 'Error!', 'Error occurred', QMessageBox.Ok)  # 선택지로 ok만 나옴\n",
    "    #     elif key in functionList:\n",
    "    #         try:\n",
    "    #             # @ calcFunction(제공)에서 exception이 되어있어서 내가 원하는 상황이 안나옴\n",
    "    #             # @  ^ 에서 except를 지워버림.\n",
    "    #             n = self.display.text()\n",
    "    #             value = calcFunctions.calcFunctions(key, n)\n",
    "    #             self.display.setText(value)\n",
    "    #         except:\n",
    "    #             self.display.setText('')\n",
    "    #             QMessageBox.question(self, 'Error!', 'Error occurred', QMessageBox.Ok)  # 선택지로 ok만 나옴\n",
    "    #     elif key == 'C':\n",
    "    #         self.display.setText('')\n",
    "    #     elif key in constantList:\n",
    "    #         #  constantDef 모듈안의> constantsDef 함수를 가지고 와서 사용.\n",
    "    #         #  @ 이 상수에 factorial 같은 키를 누르면> Error.\n",
    "    #         # self.display.setText(self.display.text() + constantDef.constantsDef(key))\n",
    "    #     else:\n",
    "    #         self.display.setText(self.display.text() + key)"
   ]
  },
  {
   "cell_type": "markdown",
   "metadata": {},
   "source": [
    "- 이러한 코드에서 elif key in constantlist를 list 안의 순서쌍으로 인자를 준다는 것은 교수님이 말씀해주신 수정 방안인데 그 경우 위에서 "
   ]
  },
  {
   "cell_type": "code",
   "execution_count": 1,
   "metadata": {
    "collapsed": true
   },
   "outputs": [],
   "source": [
    "# buttonGroups = {\n",
    "        #     'num': {'buttons': numPadList, 'layout': numLayout, 'columns': 3},\n",
    "        #     'op': {'buttons': operatorList, 'layout': opLayout, 'columns': 2},\n",
    "        #     'constants': {'buttons': constantList, 'layout': constantLayout, 'columns': 1},  # argument tuple?\n",
    "        #     'functions': {'buttons': functionList, 'layout': funcLayout, 'columns': 1},  # argument tuple?\n",
    "        # }"
   ]
  },
  {
   "cell_type": "markdown",
   "metadata": {},
   "source": [
    "- constantlist안의 원소가 튜플로 되어있어, 오류가 생긴다. "
   ]
  },
  {
   "cell_type": "markdown",
   "metadata": {},
   "source": [
    "### 코드리뷰"
   ]
  },
  {
   "cell_type": "markdown",
   "metadata": {},
   "source": [
    "- 어떠한 코드가 좋다고 말하기 매우 힘든 과제여서, 두 벌의 코드를 비교했지만 나와는 다르게 예외를 잡으려고 더 많은 코드를 쓴 친구도 있었고 함수가 아니라 리스트를 사용해서 버튼에 대응되는 상수를 매치해 for loop안에서 찾을 수 있도록 만든 친구도 있었다.\n",
    "\n",
    "- '쩌는 코드' 까지는 아니었지만 이 정도면 꽤 괜찮게 의도한 대로 작동하는 코드를 작성한 것 같아서 좋다.\n",
    "\n",
    "- 다른 조 모두의 코드를 볼 수 있었다면 더 좋을 것 같다 \n",
    "\n",
    "- 버튼의 수가 아주 많아진다면 어떻게 해야할지에 대해서 고려하게 해주시는 점이 굉장히 생소하면서도 필요하다는 점을 다시 생각해 보게 만든다. \n",
    "\n",
    "- 그러나 어쨌든 책임을 져야하는 일은 어디서든 일어나기 때문에 나는 def( 함수 ) 를 사용하는 방식으로 제출하겠다. "
   ]
  }
 ],
 "metadata": {
  "kernelspec": {
   "display_name": "Python 3",
   "language": "python",
   "name": "python3"
  },
  "language_info": {
   "codemirror_mode": {
    "name": "ipython",
    "version": 3
   },
   "file_extension": ".py",
   "mimetype": "text/x-python",
   "name": "python",
   "nbconvert_exporter": "python",
   "pygments_lexer": "ipython3",
   "version": "3.6.1"
  }
 },
 "nbformat": 4,
 "nbformat_minor": 2
}
