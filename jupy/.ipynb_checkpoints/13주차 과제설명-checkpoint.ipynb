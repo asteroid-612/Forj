{
 "cells": [
  {
   "cell_type": "markdown",
   "metadata": {},
   "source": [
    "## 13 주차 과제설명\n",
    "\n",
    "#### 과제 구현 ( guess )\n",
    "1. comment로 많은 부분을 설명해 놓았으므로 딱히 첨언 할 부분은 없으나. 성공한 글자들과 실패한 글자들의 집합을 따로 만들어주는 것이 맞는지는 잘 모르겠다. \n",
    "\n",
    "2. 나의 display는 굉장히 복잡했는데, 조원들의 코드를 보니 복잡할 것이 없었다는 것을 깨달았다. 전부 comment하고 아래에 다시 return 해주는 것으로 바꾸었다. gui로 바뀌게 되었을때의 코드 사용을 용이하게 하기 위해서 이다."
   ]
  },
  {
   "cell_type": "code",
   "execution_count": 2,
   "metadata": {},
   "outputs": [],
   "source": [
    "#print(\"Current:\", end=\" \")\n",
    "#        # print(\"_\" * len(self.secretWord))\n",
    "#        #  guess word 의 길이만큼 \"_\"를 친다.\n",
    "#        if self.count > 0:  # count 가 1 이상이 되는 경우부터 succWordIndex가 있을것.\n",
    "#            for i in range(len(self.secretWord)):\n",
    "#                if i in self.succWordIndex:\n",
    "#                    self.currentStatus = self.currentStatus[:i] + self.secretWord[i] + self.currentStatus[i+1:]\n",
    "#                else:\n",
    "#                    continue\n",
    "#        else:               # 맨 처음 시작할때 _ 를 추가해주기\n",
    "#            for i in range(len(self.secretWord)):\n",
    "#                self.currentStatus = self.currentStatus + '_'\n",
    "#        print(self.currentStatus)\n",
    "#        print(\"Already used: \", end=\"\")\n",
    "#        print(self.guessedChars)\n",
    "#        print('Tries: ' + str(self.count))"
   ]
  },
  {
   "cell_type": "code",
   "execution_count": 3,
   "metadata": {
    "collapsed": true
   },
   "outputs": [],
   "source": [
    "# def display(self):\n",
    "#        print(\"Current:\", self.currentStatus)\n",
    "#        print(\"Tries:\", str(self.numTries))\n",
    "\n",
    "# def display(self):\n",
    "#        return self.currentStatus , self.numTries"
   ]
  },
  {
   "cell_type": "markdown",
   "metadata": {},
   "source": [
    "game 안에서, hangman 안에서도 수정을 해온 친구들이 있었다. isalpha를 사용해 예외를 처리하고 display는 return을 주는 것으로 해서 이후 출력될때 모양을 정해주고 혹은 행맨이 너무 어려우므로 행맨의 숫자를 늘려온 친구도 있었다. \n",
    "guessedChars 를 집합으로 만든다는것은 꽤 뒷통수를 맞는 느낌이었다. 집합은 정말로 지나가듯 배웠고 여태까지는 리스트만 가지고도 다 할 수 있는 일들만 해왔기 때문이었다.\n",
    "- set.union({character})\n",
    "- self.set |= {character} \n",
    "\n",
    "둘 다 집합의 합집합 연산을 나타낸 다는 것을 배웠다.\n",
    "또, \n",
    "- return self.currentStatus == self.secretWord\n",
    "\n",
    "이런 식의 return을 주게되면 알아서 이 문장이 True 인지 False 인지를 판단해 return으로 준다는 것이 신기했다.\n"
   ]
  },
  {
   "cell_type": "markdown",
   "metadata": {},
   "source": [
    "제대로 작동은 하게 코드를 작성했으나 조원들의 코드를 보고 마음이 아팠다. 제대로 기능만 하지 너무 지저분 했던 코드였다. \n",
    "\n",
    "numTries는 내가 보기엔 game 모듈에서 세는 방법도 나쁘지 않을 듯 싶다. \n",
    "guessedChars는 guess에서 세는게 제일 나아보이는데 어떨지 모르겠다.\n",
    "코드를 전부 수정해서 올리고 싶으나 지금 상태가 많이 안 좋아서 일단은 이만큼만 한것으로 제출하겠다."
   ]
  },
  {
   "cell_type": "markdown",
   "metadata": {},
   "source": [
    "누구의 코드인지는 모르겠으나 str(self.numTries)를 하지 않고 print(\"Tries\",self.numTries) 가 가능했던 코드가 코드리뷰때 보였는데, 그건 어떻게 가능한걸까?"
   ]
  }
 ],
 "metadata": {
  "kernelspec": {
   "display_name": "Python 3",
   "language": "python",
   "name": "python3"
  },
  "language_info": {
   "codemirror_mode": {
    "name": "ipython",
    "version": 3
   },
   "file_extension": ".py",
   "mimetype": "text/x-python",
   "name": "python",
   "nbconvert_exporter": "python",
   "pygments_lexer": "ipython3",
   "version": "3.6.1"
  }
 },
 "nbformat": 4,
 "nbformat_minor": 2
}
