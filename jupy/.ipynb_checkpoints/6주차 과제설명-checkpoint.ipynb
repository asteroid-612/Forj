{
 "cells": [
  {
   "cell_type": "markdown",
   "metadata": {},
   "source": [
    "## 6주차 과제설명"
   ]
  },
  {
   "cell_type": "markdown",
   "metadata": {},
   "source": [
    "##### GUI 과제  - SCORE DB 관리 "
   ]
  },
  {
   "cell_type": "markdown",
   "metadata": {},
   "source": [
    "##### 코드설명"
   ]
  },
  {
   "cell_type": "markdown",
   "metadata": {},
   "source": [
    "주어진 gui의 모습을 만들기 위하여 버튼과 line edit 그리고 qcombobox등을 만들어내 형식에 맞게 구동하도록 하는 과제.\n",
    "\n",
    "1. 나의 과제 \n",
    "\n",
    " - 제대로 구현하는 것에 실패하였음. 수업시간을 따라가려조금 더 탐구해서 제대로 사용하는 방법을 익히도록 하겠다. 고 시도했음에도 불구하고 능력의 부족인지 이해의 부족인지 많은 벽에 부딪혔고 과제를 포기하는 극단적인 측면에 도달했다. 그러나 과제를 올려야 했으므로 이전 주차에 완성했던 과제코드를 붙여넣고 업로드했다. 이번 과제를 두 파일 따로 올린 이유는 내가 안된 부분을 코드리뷰를 통해 보완하는 것이 아니라 완전히 새로 코드를 짜야했기 때문에 아예 새롭게 코드를 작성한 부분을 업로드하였다. \n",
    "\n",
    " - 그럼에도 불구하고 gui에 대한 학습이 부족하다고 느껴지므로 제대로 gui를 프로그래밍 하는 학습을 더 해보도록 하겠다. \n",
    " \n",
    "2. 조원들의 과제\n",
    "\n",
    " - 다행인지 불행인지는 정확히 알 수 없으나 우리 조에는 제대로 구현해온 사람이 상현이 뿐이었다. 코드리뷰를 제대로 진행하는 것에는 무리가 있었으나 차라리 봐야할 코드가 하나 뿐이었으므로 조금 편했을 지도 모르겠다.( 하지만 다음주에는 꼭 파일을 완성시켜 코드리뷰를 제대로 진행할 수 있게 하도록 하겠다. \n",
    " \n",
    " - 상현이의 파일을 참고하여 나의 코드를 완성시켰다."
   ]
  },
  {
   "cell_type": "markdown",
   "metadata": {},
   "source": [
    "대망의 inc라고 표현했던 까다로웠던 부분도 생각보다 쉽게 해결할 수 있었다."
   ]
  },
  {
   "cell_type": "code",
   "execution_count": 1,
   "metadata": {
    "collapsed": true
   },
   "outputs": [],
   "source": [
    "#def incScoreDB(self):\n",
    "#        inc_name = self.nameLine.text()\n",
    "#        inc_amount = self.amountLine.text()\n",
    "#\n",
    "#        for people in self.scoredb:\n",
    "#            if people['Name'] == inc_name:\n",
    "#                people['Score'] = int(people['Score'])\n",
    "#                people['Score'] += int(inc_amount)\n",
    "#\n",
    "#        self.writeScoreDB()\n",
    "#        self.showScoreDB()"
   ]
  },
  {
   "cell_type": "markdown",
   "metadata": {},
   "source": [
    " 어려움이 있었던 부분은 inc나 다른 함수들안에서 어떤 변수를 만들어주거나 하는 일을 하려고 하면 자꾸 에러가 생기곤 했기 때문이었다. 그 일들은 쓰려고 하는 것들에 대한 정의를 어디에서 해주느냐에 대해서 제대로 이해하지 못했기 때문이었다. 함수 안에서 사용하려면 initUI에서 self.() = ()() 같은 형식으로 쓰고 그것을 가져다 써야 했다. "
   ]
  },
  {
   "cell_type": "markdown",
   "metadata": {},
   "source": [
    "##### 선택에 대하여"
   ]
  },
  {
   "cell_type": "markdown",
   "metadata": {},
   "source": [
    "find, show ScoreDB를 만들때 escape 문자열을 사용해서 코드를 작성하는 방법을 선택했다. \n",
    "\n",
    "- 선택에 대한 이유: for loop이 중첩되어 약간 깊게 들어가는 경향이 있으나, line 에 80 글자 이상이 들어가지 않았으며 눈으로 보기에 좀 간결해 보이기 때문이다."
   ]
  },
  {
   "cell_type": "code",
   "execution_count": 2,
   "metadata": {
    "collapsed": true
   },
   "outputs": [],
   "source": [
    "#for p in find_scoredb:\n",
    "#            for k in people:\n",
    "#                if k == 'Age' or k == 'Score':\n",
    "#                    p[k] = str(p[k])\n",
    "#                string += (k + '=' + p[k] + '\\t')\n",
    "#            string += '\\n'"
   ]
  },
  {
   "cell_type": "markdown",
   "metadata": {},
   "source": [
    "그런데 여전히 어떤 코드가 잘못되었다고 칼처럼 내려치는것에는 망설임이 생긴다. "
   ]
  },
  {
   "cell_type": "markdown",
   "metadata": {},
   "source": [
    "#### 감상"
   ]
  },
  {
   "cell_type": "markdown",
   "metadata": {},
   "source": [
    "개선할 수 있는 부분도 있다고 생각되어지는 부분에 대하여 망설임없이 지우고 고치는 자신감이 사라진다. 시도하면 생기는 error를 확실히 잡아낼 자신이 코드가 너무 길어서 확실히 고칠 수 있다는 자신이 생기지 않는다. 그러나 이런 코드를 자꾸 다루고 다룰 줄 아는 프로그래머가 되고싶다. 마감이 있는 일에 대해서 충분히 노력했는가를 생각해보면 분명히 부족한 부분이 있었을 것이다. 교수님께서 말씀하셨듯이 집중해서 1시간 2시간정도 노력하면 누구든 끝낼 수 있는 과제라고 하셨으므로 조금 더 시도하고 인내심을 가지도록 하겠다. 이번 gui 과제에 대해서는 확실히 해결한 부분이 없었다. 다음 과제도 gui를 완성하고 이벤트를 다루는 과제이므로 다음 과제에서 더 나은 코드를 작성할 수 있도록 하겠다. "
   ]
  }
 ],
 "metadata": {
  "kernelspec": {
   "display_name": "Python 3",
   "language": "python",
   "name": "python3"
  },
  "language_info": {
   "codemirror_mode": {
    "name": "ipython",
    "version": 3
   },
   "file_extension": ".py",
   "mimetype": "text/x-python",
   "name": "python",
   "nbconvert_exporter": "python",
   "pygments_lexer": "ipython3",
   "version": "3.6.1"
  }
 },
 "nbformat": 4,
 "nbformat_minor": 2
}
