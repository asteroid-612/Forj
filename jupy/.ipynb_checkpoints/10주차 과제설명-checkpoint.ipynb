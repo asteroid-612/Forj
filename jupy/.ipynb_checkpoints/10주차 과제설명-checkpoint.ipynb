{
 "cells": [
  {
   "cell_type": "markdown",
   "metadata": {},
   "source": [
    "## 소프트웨어 프로젝트 10주차 숙제"
   ]
  },
  {
   "cell_type": "markdown",
   "metadata": {},
   "source": [
    "###### 10주차가 맞는지,,,"
   ]
  },
  {
   "cell_type": "markdown",
   "metadata": {},
   "source": [
    "### 코드 구현에 대한 설명\n",
    "\n",
    "1. ButtonClicked \n",
    " - 다른 예외처리를 하지 않고 피피티에 나와있는 기능만 구현했음. \n",
    "\n",
    "2. for loop 사용 코드( mine ) "
   ]
  },
  {
   "cell_type": "code",
   "execution_count": 1,
   "metadata": {
    "collapsed": true
   },
   "outputs": [],
   "source": [
    " # Digit Buttons\n",
    "        # self.digitButton = [x for x in range(0, 10)]\n",
    "        # for i in range(10):\n",
    "        #     j = str(i)\n",
    "        #     self.digitButton[i] = Button(j, self.buttonClicked)"
   ]
  },
  {
   "cell_type": "markdown",
   "metadata": {},
   "source": [
    "digit버튼을 만들어내는 경우는 따로 좌표를 넣어야 하는 부분이 없어 쉽게 구현했다."
   ]
  },
  {
   "cell_type": "code",
   "execution_count": 2,
   "metadata": {
    "collapsed": true
   },
   "outputs": [],
   "source": [
    "# numLayout.addWidget(self.digitButton[0], 3, 0)\n",
    "        # for i in range(1, 10):\n",
    "        #     numLayout.addWidget(self.digitButton[i], 2 - int(i/3.5), (2+i) % 3)"
   ]
  },
  {
   "cell_type": "markdown",
   "metadata": {},
   "source": [
    "layout의 경우 피피티에 나와있는 / 계산의 결과나 % 계산의 결과를 통해 좌표를 만들어내는 부분을 생각해냈다. "
   ]
  },
  {
   "cell_type": "markdown",
   "metadata": {},
   "source": [
    "### 조원 코드"
   ]
  },
  {
   "cell_type": "markdown",
   "metadata": {},
   "source": [
    "1. 건민 조원님의 for loop(layout)"
   ]
  },
  {
   "cell_type": "code",
   "execution_count": 3,
   "metadata": {
    "collapsed": true
   },
   "outputs": [],
   "source": [
    "# num = 0\n",
    "# for i in range(3, -1, -1):\n",
    "#     if i == 3:\n",
    "#         numLayout.addWidget(self.digitButton[num], i, 0)\n",
    "#         num += 1\n",
    "#     else:\n",
    "#         for j in range(0, 3):\n",
    "#             numLayout.addWidget(self.digitButton[num], i, j)\n",
    "#             num += 1"
   ]
  },
  {
   "cell_type": "markdown",
   "metadata": {},
   "source": [
    "나, 그리고 다른 조원 2 (상현, 범석) 의 경우는 for loop을 주어진 ( %, / 연산) 결과에서 좌표를 넣어주느라고 한번에 보이는 구조를 만들어내지 못했고, (3, 0, 0)의 경우 따로 빼서 코드를 작성하였는데, 건민이는 for loop안에 넣었고, 코드를 읽으면서 어떻게 좌표가 생겼겠구나 하는 것이 짐작이 된다."
   ]
  },
  {
   "cell_type": "markdown",
   "metadata": {},
   "source": [
    "### 코드 리뷰 후기"
   ]
  },
  {
   "cell_type": "markdown",
   "metadata": {},
   "source": [
    "이번 코드리뷰에서는 우리조의 코드에서 얻은것보다 앞에 나와서 발표했던 조의 내용들에서 더 얻은것이 많았다. \n",
    "\n",
    "1. zip\n",
    "- 이건 아마도 개인이 따로 공부하셔서 알게 된 부분이 아닐까? 이후에 사용하게될 일이 생겼으면 좋겠다. \n",
    "2. 에러를 입력할 수 없게 만들기\n",
    "- 3+6 = 9 이후에 바로 숫자가 이어진다는 점의 에러를 알지 못했다가 발표에서 알게되었다. 그리고, 아예 사용자가 에러를 일으킬만한 연산을 하지 못하도록 한다는 선택지가 존재한다는것을 알게되었다. \n",
    "3. TypeError\n",
    "- 6(3) 을 eval 할경우 6을 함수로 ( callable ) 인식한다는 점이 신기했다. 그래서 TypeError 가 생기는 점. 에러처리를 할때 TypeError을 고려해줘야겠다."
   ]
  }
 ],
 "metadata": {
  "kernelspec": {
   "display_name": "Python 3",
   "language": "python",
   "name": "python3"
  },
  "language_info": {
   "codemirror_mode": {
    "name": "ipython",
    "version": 3
   },
   "file_extension": ".py",
   "mimetype": "text/x-python",
   "name": "python",
   "nbconvert_exporter": "python",
   "pygments_lexer": "ipython3",
   "version": "3.6.1"
  }
 },
 "nbformat": 4,
 "nbformat_minor": 2
}
