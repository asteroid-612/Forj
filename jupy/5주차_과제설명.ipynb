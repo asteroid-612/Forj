{
 "cells": [
  {
   "cell_type": "markdown",
   "metadata": {},
   "source": [
    "## 소프트웨어 프로젝트 5주차 과제 "
   ]
  },
  {
   "cell_type": "markdown",
   "metadata": {},
   "source": [
    "### 피보나치 수열의 구현"
   ]
  },
  {
   "cell_type": "markdown",
   "metadata": {},
   "source": [
    "#### 피보나치의 개념 : f(n) = f(n - 1) + f(n - 2)\n",
    "\n",
    "피보나치 자체를 피보나치 개념에 있는 공식처럼(recursive 하게) 나타내는 일은 어렵지 않으나 반복이 많이 일어나고 효율성이 매우 떨어지는 단점이 발견되었음 > 반복으로 피보나치 수열을 구현해보자.\n",
    "\n",
    "1. 나의 과제\n",
    "\n",
    " - 다른 과제를 할때는 굉장히 리스트를 많이 사용했었는데 이번의 경우 리스트가 아니라 자체적으로 변수를 치환해주는 방식의 프로그램을 작성했다. 파이썬은 특히 a, b = b, a 를 지원해 주기 때문에 굉장히 쉽게 짤 수 있었으나, for loop을 작성할때 range 를 n - 1로 지정해주는 일에서 조금 헷갈렸었다. f(0)과 f(1)이 정해져있기 때문이었다."
   ]
  },
  {
   "cell_type": "code",
   "execution_count": 1,
   "metadata": {
    "collapsed": true
   },
   "outputs": [],
   "source": [
    "#def iterfibo(a):  # 반복구조를 사용한 재귀구조.\n",
    "#    rst = 0\n",
    "#    t1 = 1\n",
    "#    t2 = 0\n",
    "#    if a == 0:  # f(0) == 0.\n",
    "#        return 0\n",
    "#    elif a <= 2:  # f(1),f(2) == 1.\n",
    "#        return 1\n",
    "#    else:  # 아닌경우 반복을 통한 피보나치. f(n) = f(n - 1) + f(n - 2)\n",
    "#        for i in range(a - 1):\n",
    "#            rst = t1 + t2\n",
    "#            t2, t1 = t1, rst  # t2 = t1, t1 = rst.\n",
    "#        return rst"
   ]
  },
  {
   "cell_type": "markdown",
   "metadata": {},
   "source": [
    "  2.조원들의 과제, 코드리뷰\n",
    " - 처음에 리스트를 사용한 방법이 가능하다는것을 알았을때는 조금 놀랐던게, 이 경우 리스트를 사용할 방법을 전혀 떠올리지 못했기 때문에 치환하는 방법을 사용했던 것이기 때문이었다.\n",
    "\n",
    " - 리스트를 사용해서 하는 방법도 정확했지만 한 조원의 경우 쉽게 고칠 수 있는 부분을 for loop 을 사용해 어렵게 나타낸 부분이 있어 모든 조원이 이해를 하지 못했다.\n",
    "\n",
    " - 다같이 그 부분을 수정하고, coding style에 맞춰서 코드를 약간 수정했다."
   ]
  },
  {
   "cell_type": "code",
   "execution_count": 2,
   "metadata": {
    "collapsed": true
   },
   "outputs": [],
   "source": [
    "# 조원들이 사용한 list를 사용한 피보나치 완전판\n",
    "##def iterfibo(n):\n",
    "##    fibolist = []\n",
    "##    fibolist.append(0)\n",
    "##    fibolist.append(1)\n",
    "##    ## 피보나치 수열의 합을 저장할 sum = 0 지정\n",
    "##    sum = 0\n",
    "##    ## 피보나치 수열을 fibo리스트에 저장\n",
    "##    for i in range(2, n + 1):\n",
    "##        fibolist.append(fibolist[i-1] + fibolist[i-2])\n",
    "##    sum = fibolist[n]\n",
    "##    return sum"
   ]
  },
  {
   "cell_type": "code",
   "execution_count": 5,
   "metadata": {
    "collapsed": true
   },
   "outputs": [],
   "source": [
    "# 조원이 처음 짠 이해가 잘 안되던 코드\n",
    "## for i in range(2, n):\n",
    "##    fibolist.append(fibolist[i - 1] + fibolist[i - 2]) \n",
    "## for p in range(n - 2,n):\n",
    "##     sum += fibolist[p]"
   ]
  },
  {
   "cell_type": "code",
   "execution_count": 6,
   "metadata": {
    "collapsed": true
   },
   "outputs": [],
   "source": [
    "# 수정한 코드 \n",
    "## for i in range(2, n + 1):\n",
    "##    fibolist.append(fibolist[i - 1] + fibolist[i - 2])\n",
    "## sum = fibolist[n]"
   ]
  },
  {
   "cell_type": "markdown",
   "metadata": {},
   "source": [
    "3.나의 코드에서 수정한 부분\n",
    "\n",
    "- 코딩규약, 연산기호 앞과 뒤를 띄워주는 것을 고쳤음."
   ]
  },
  {
   "cell_type": "markdown",
   "metadata": {},
   "source": [
    "#### ? 의문점 ?\n",
    "\n",
    "- fibo에 들어가는 수가 7이하인 경우 iterfibo보다 fibo 가 빠른 경우가 생긴다. 이유가 무엇인지 까지는 알아내지 못했음.\n",
    "\n",
    "#### ! 느낀점 !\n",
    "\n",
    "- 아무래도 여러사람의 눈을 통해 코드가 검증되기 때문에 코딩규약같은 작은 실수나 놓친 부분도 확인할 수 있는 것 같다. \n",
    "- 여러사람이 있고 다양한 코드가 있어도 사용한 방법들에는 어떤 유사성이 존재해서 서로 도와줄 수 있고 이해하기도 쉽다.\n"
   ]
  }
 ],
 "metadata": {
  "kernelspec": {
   "display_name": "Python 3",
   "language": "python",
   "name": "python3"
  },
  "language_info": {
   "codemirror_mode": {
    "name": "ipython",
    "version": 3
   },
   "file_extension": ".py",
   "mimetype": "text/x-python",
   "name": "python",
   "nbconvert_exporter": "python",
   "pygments_lexer": "ipython3",
   "version": "3.6.1"
  }
 },
 "nbformat": 4,
 "nbformat_minor": 2
}
