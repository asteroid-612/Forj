{
 "cells": [
  {
   "cell_type": "markdown",
   "metadata": {},
   "source": [
    "# 밑바닥 부터 시작하는 머신러닝 입문"
   ]
  },
  {
   "cell_type": "markdown",
   "metadata": {},
   "source": [
    "2/1"
   ]
  },
  {
   "cell_type": "markdown",
   "metadata": {},
   "source": [
    "사용자에게 맞춤화된 상품을 제공할 수 있도록 하는 기능을 가능하게 한다. \n",
    "\n",
    "기계가 학습을 하는 내용에 의해서 사용자의 화면에 나타나는 부분이 머신러닝에 의해서 생기는 것이다.\n",
    "\n",
    "관람객이 얼마나 올지? structured data를 다룬다. \n",
    "\n",
    "차량의 번호를 인식하는 / 얼굴을 인식하는 / 자율주행차 > 이미지와 관련된 서비스. \n",
    "챗봇 / 번역 \n",
    "> 기존에는 사람이 해왔다. 머신러닝을 통해서 기계가 이러한 일들을 하게 한다. \n",
    "\n",
    "머신러닝 : 사람의 노동을 대신한다. 정보추출을 위해 정신노동을 기계가 대신한다. \n",
    "앞으로의 '모든 분야의 데이터 분석'은 머신러닝이 해나갈 것이다. "
   ]
  },
  {
   "cell_type": "markdown",
   "metadata": {},
   "source": [
    "### an understanding of the data key words"
   ]
  },
  {
   "cell_type": "markdown",
   "metadata": {},
   "source": [
    "big data \n",
    "- 정해진 시간내에 한 대의 머신으로 처리가 어려운 크기의 데이터 \n",
    "- 고성능 머신 또는 다수의 머신을 사용해 목표대로 데이터를 처리할 수 있음\n",
    "- ex) 실시간 대용량 SQL 처리 "
   ]
  },
  {
   "cell_type": "markdown",
   "metadata": {},
   "source": [
    "machine learning \n",
    "- 데이터로부터 패턴을 학습하는 기법. 알고리즘, 모델의 묶음? 상위개념.\n",
    "- 데이터의 크기는 중요, 그러나 작다고 불가능한 것은 아님.\n",
    "- ex) 컴퓨터에서 손 글씨 이해시키기\n",
    "\n",
    "data mining \n",
    "- 사실상 머신러닝과 같은 의미 , 데이터에서 의미있는 규칙 찾기\n",
    "- 주요적용 사례가 비즈니스 분야\n",
    "- 머신러닝 - 알고리즘. / 데이터마이닝 - 어플리케이션 관점에서 머신러닝을 풀어서 쓰는것. \n",
    "- ex) 스팸 필터, 상품추천.\n",
    "\n",
    "데이터 처리 BIG DATA > DATA ENGINEERING\n",
    "데이터 분석 MACHINE LEARNING > DATA ANALYSIS\n",
    "\n",
    "빅데이터는 > 활용적인 기능. 분산처리(여러대의 컴퓨터를 연결해서 처리하게 만든다.) + 데이터베이스\n",
    "데이터 마이닝 > 머신러닝을 위한것. 알고리즘을 배우게 된다. \n",
    "\n",
    "deep learning + tensor flow 김성훈(?)\n",
    "- 머신러닝의 종류중 하나인 neural net기반 알고리즘. > 최근 높은 성능에 대세로 떠오름.\n",
    "- 사진내 객체 인식, 번역 등 탁월한 성능.\n",
    "- 머신러닝과 구분하여 새로운 분야로 주장하는 사람도 있으나, 강사님은 이것이 머신러닝에 포함되어 있다고 말하심. \n",
    "\n",
    "인간처럼 판단하는 컴퓨터는 앨런튜링부터 시작해 2014년부터는 딥러닝 기술이 거의 모든 이미지 처리에서 사용되고 있다. \n",
    "딥러닝은 비교적 최근에 이슈를 받고있음. 구글 트렌드는 2017년, 빅데이터보다 머신러닝이, 그리고 딥러닝은 꾸준히 올라오고있다고.\n",
    "딥러닝이 모든것을 처리할 수는 없다. 구조적인 데이터 처리에서는 딥러닝이 사용하기 어려운 부분이 분명히 존재.\n",
    "\n",
    "빅데이터 처리는 data engineering.\n",
    "데이터 분석은 data analysis. 둘을 합쳐서 data science."
   ]
  },
  {
   "cell_type": "markdown",
   "metadata": {},
   "source": [
    "### how to learn machine learning"
   ]
  },
  {
   "cell_type": "markdown",
   "metadata": {},
   "source": [
    "model ? 관람객을 예상할때 ,, 어떻게 추측할 것인가 . \n",
    "- 예측을 위한 수학공식, 함수, 1차방정식, 확률분포, condition rule.\n",
    "\n",
    "Algorithms  \n",
    "- 어떠한 문제를 풀기 위한 과정. model을 생성하기 위한 기본적인 과정"
   ]
  },
  {
   "cell_type": "markdown",
   "metadata": {},
   "source": [
    "2/5"
   ]
  },
  {
   "cell_type": "markdown",
   "metadata": {},
   "source": [
    "### types of machine learning"
   ]
  },
  {
   "cell_type": "markdown",
   "metadata": {},
   "source": [
    "regression : 회귀, 추세선을 긋는 것. >  1차 방정식을 세우는것( continuous Y )\n",
    "\n",
    "ex) 주가 예측, 경제 성장률 예측, 영화 관람객 예측\n",
    "\n",
    "classification : 분류, 데이터의 유형을 나누는 것. > 기존 데이터를 바탕으로 데이터 유형\n",
    "을 나눠보기.( discrete Y )\n",
    "\n",
    "ex) 스팸메일 여부, 게임 어뷰저-반칙자- 여부, 신문기사 분류 \n",
    "\n",
    "clustering : 군집, 데이터를 모으는 것. > 아무런 사전정보 없이 데이터 유형을 나눠보기.\n",
    "\n",
    "supervised: y 데이터가 있는 것 > regression, classification.\n",
    "unsupervised: y 데이터가 없는 것 > clustering. x 데이터로만 처리 .\n",
    "( + reinforcement learning, recommandation ) "
   ]
  },
  {
   "cell_type": "markdown",
   "metadata": {},
   "source": [
    "### a history of data analysis : in perspective of business"
   ]
  },
  {
   "cell_type": "markdown",
   "metadata": {},
   "source": [
    "era of data : 데이터의 시대는 어디서부터 왔는가? .. 정보 시스템의 관점에서.\n",
    "\n",
    "history of information system\n",
    "\n",
    "- 1960 년대: 단수 데이터 처리를 위한 정보 시스템의 등장\n",
    "- edps - electronic data processing system\n",
    "- tps - transaction processing system\n",
    "\n",
    ": 1960 년대 은행등 거래정보 저장을 위해 사용됨\n",
    "\n",
    "- 1980 년대: 의사결정 지원 시스템(dss) 전문가 시스템(es) 등의 초기단계 인공지능 시스템.\n",
    "\n",
    "the information revolution : 처음 인터넷을 사용하게 됨. 정보화 혁명.\n",
    "\n",
    "- scm : supply chain components\n",
    "- crm : 제품 구매자 분석을 통한 맞춤형 마케팅.\n",
    "- kms : 기존 문서 저장 관리 시스템을 넘어 사내 지식 관리\n",
    "- erp : 전사적 자원관리, 사내 모든 시스템 밑 데이터의 통합 관리\n",
    "\n",
    "결정적 변화의 순간 : 2007년 스티브 잡스가 구현한 아이폰. \n",
    "\n",
    "::: Paradigm shift SINGULARITY ::: 특이점이 오게된다. \n",
    "\n",
    "20 세기에는 기계적인 측면과 산업의 효율성을 제공하는 회사들이 컸지만, 21 세기에는 개인의 만족을 위한 회사들이 더 커진다. \n",
    "\n",
    "기업의 효율성 향상 > 개인 삶의 가치 향상으로 전환된 ICT의 기능. \n",
    "\n",
    "DATA FROM INDIVIDUAL. >>> Big data > 데이터 엔지니어링 도구들이 각광받음. 그러나 많은 피시를 같이 사용해야 해서 > cloud가 생겨난다. 같이 발전했다. \n",
    "\n",
    "commerce 사이트는 11월달에 바쁘다.. 서버를 11월달에 맞춰 많은 컴퓨터를 사놓아야한다. amazon (awa) 는 이러한 기능에서 앞서있다. \n",
    "\n",
    "sensor = IoT( internet of things.) > 모든 기기가 데이터를 뿜어내고 주고 받는다. > 데이터가 너무 많다! > 자동화된 분석과 처리를 통한 데이터의 분류를 해보자 (m/l)"
   ]
  },
  {
   "cell_type": "markdown",
   "metadata": {},
   "source": [
    "### python ecosystem for machine learning"
   ]
  },
  {
   "cell_type": "markdown",
   "metadata": {},
   "source": [
    "과학 계산용 파이썬 통합 배포판. by continum analytics.\n",
    "\n",
    "conda > 파이썬 가상 환경 관리 패키지. \n",
    "\n",
    "jupyter : 데이터 분석을 위한 파이썬 ide.\n",
    "\n",
    "pandas :  데이터 분석 라이브러리\n",
    "\n",
    "numpy : 고성능 어레이 처리\n",
    "\n",
    "matplotlib : 데이터 시각화를 위한 파이썬 패키지\n",
    "\n",
    "전부 깔았다!"
   ]
  },
  {
   "cell_type": "markdown",
   "metadata": {},
   "source": [
    "### how to use jupyter notebook\n",
    "\n",
    "ipython ( interactive python ) 커널(핵심. 명령을 실행해주는 곳)을 기반으로 한 대화형 파이썬 셸\n",
    "\n",
    "일반적인 터미널 셸 + 웹 기반 데이터 분석 Notebook 제공\n",
    "\n",
    "사실상의 데이터 분석 Interactive Shell 의 표준.\n",
    "\n",
    "julia + python + r 의 합성어. \n",
    "\n",
    "cell 단위로 실행. \n",
    "\n",
    "esc 를 누르면 command mode로 바뀐다. \n",
    "> command mode 에서 사용 가능한 기능 \n",
    "- 아래 셀과 합치기: shift + M\n",
    "- 셀 오려두기 : x \n",
    "- 셀 지우기 : d, d\n",
    "- 셀 지우기 취소 : z\n",
    "- 셀 복사 : c\n",
    "- 셀 붙여넣기 : v or shift + v\n",
    "- 마크다운 변환 : m, m\n",
    "- 코드로 변환 : y, y\n",
    "\n",
    "\n",
    ">cell mode 에서 사용 가능한 기능 \n",
    "- 툴팁 표시하기 : shift + tab\n",
    "- 들여쓰기 사용하기 : 드래그 한 후 tab 키 누르기. \n",
    "- 셀 나누기 : ctrl + shift + -\n"
   ]
  },
  {
   "cell_type": "markdown",
   "metadata": {},
   "source": [
    "### 가상환경과 package 활용하기 \n",
    "\n",
    "가상환경 : 프로젝트 진행시 필요한 패키지만 설치하는 환경\n",
    "\n",
    "기본 인터프리터 + 프로젝트 종류별 패키지 설치 ( 두가지 다른 프로젝트를 사용할 수 있다. ) \n",
    "\n",
    "가상환경 도구 conda, virtual machine\n",
    "\n",
    "\" conda create -n my_project python=3.4 \"\n",
    "\n",
    "\" source activate my_project \"> 가상환경 활성화.\n",
    "\n",
    "matplotlib > 파이썬 그래프 표시."
   ]
  },
  {
   "cell_type": "markdown",
   "metadata": {
    "collapsed": true
   },
   "source": [
    "### data types"
   ]
  },
  {
   "cell_type": "markdown",
   "metadata": {},
   "source": [
    "model .. feature 별로 data 의 유형이 다름. (db과목 )\n",
    "\n",
    "continuous, 연속성 값: 값이 끊어지지 않고 연결됨 온도, 시험평균 점수, 속도 등 일반적으로 실수값들.\n",
    "\n",
    "discrete, 연속적이지 않은 값: 성별, 우편주소, 등수 label로 구분되는 값들. \n",
    "\n",
    "numeric types: 정량적으로 측정이 가능한 data type\n",
    "- 일반적으로 정수또는 실수로 표현.\n",
    "- 온도, 자동차 속도, 날짜의 차이. \n",
    "- 단위가 있는 interval scaled type 이여야 한다\n",
    "- 비율이 있는 ratio-scaled type.\n",
    "\n",
    "nominal types: 범주로 분류가 가능한 data type. 명목 척도 라고도 불림.\n",
    "- 샊깔, 학교명, id, 전공명등\n",
    "\n",
    "ordinal types: 범주로 분류가 가능하나 범주간의 순서가 있음.\n",
    "- 명목척도 라는 표현으로 사용되기도 함\n",
    "- 음료수 병의 크기, 학점, 5점 척도 설문조사\n",
    "- 측정되는 scale또는 unit이 사람마다 다를 수 있음\n",
    "- 순서가 있는 것과 배수로 증가하는 개념은 다르다. \n",
    "\n",
    "생길 수 있는 문제점들. \n",
    "- 데이터의 최대/최소가 다름 scale에 따른 y값에 영향\n",
    "- ordinary 또는 nominal한 값들의 표현은 어떻게?\n",
    "- 잘 못 기입된 값들에 대한 처리\n",
    "- 값이 없을때?\n",
    "- 극단적으로 크거나 극단적으로 작은 경우는 어떻게 하지?"
   ]
  },
  {
   "cell_type": "markdown",
   "metadata": {},
   "source": [
    "### loading data with pandas\n",
    "\n",
    "data table, sample. / attribute, field, feature, column\n",
    "\n",
    "instance, tuple, row, feature vector, data(value)\n",
    "\n",
    "raw data 는 binary 가 아니라 text형태의 데이터.\n",
    "\n",
    "주로 사용되는 데이터 포멧은 csv, json, xml등.\n",
    "\n",
    "pandas 를 사용하여 데이터를 호출함. > 엑셀처럼 데이터를 불러서 사용하는 라이브러리\n",
    "- 고성능 array 계산 라이브러리 numpy와 함께 강력한 스프레드 시트 처리 기능 제공.\n",
    "- 인덱싱, 연산용함수, 전처리 함수 등을 제공함..\n",
    "\n"
   ]
  }
 ],
 "metadata": {
  "kernelspec": {
   "display_name": "Python 3",
   "language": "python",
   "name": "python3"
  },
  "language_info": {
   "codemirror_mode": {
    "name": "ipython",
    "version": 3
   },
   "file_extension": ".py",
   "mimetype": "text/x-python",
   "name": "python",
   "nbconvert_exporter": "python",
   "pygments_lexer": "ipython3",
   "version": "3.6.1"
  }
 },
 "nbformat": 4,
 "nbformat_minor": 2
}
