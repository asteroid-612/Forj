{
 "cells": [
  {
   "cell_type": "markdown",
   "metadata": {},
   "source": [
    "# 파이썬 데이터 분석 입문. - 협죽도나방애벌래 책과 함께 -"
   ]
  },
  {
   "cell_type": "code",
   "execution_count": 2,
   "metadata": {},
   "outputs": [
    {
     "name": "stdout",
     "output_type": "stream",
     "text": [
      "Output #2: Four plus five equals 9.\n"
     ]
    }
   ],
   "source": [
    "x = 4\n",
    "y = 5\n",
    "z = x + y\n",
    "print(\"Output #2: Four plus five equals {0:d}.\".format(z))"
   ]
  },
  {
   "cell_type": "code",
   "execution_count": 1,
   "metadata": {},
   "outputs": [
    {
     "name": "stdout",
     "output_type": "stream",
     "text": [
      "Output #1: I'm excited to learn Python.\n"
     ]
    }
   ],
   "source": [
    "#! /usr/bin/env python3\n",
    "print(\"Output #1: I'm excited to learn Python.\")"
   ]
  },
  {
   "cell_type": "code",
   "execution_count": 3,
   "metadata": {},
   "outputs": [
    {
     "name": "stdout",
     "output_type": "stream",
     "text": [
      "Output #3: [1, 2, 3, 4],['first', 'second', 'third', 'fourth'],[1, 2, 3, 4, 'first', 'second', 'third', 'fourth']\n"
     ]
    }
   ],
   "source": [
    "a = [1,2,3,4]\n",
    "b = [\"first\",\"second\",\"third\",\"fourth\"]\n",
    "c = a + b\n",
    "print(\"Output #3: {0},{1},{2}\".format(a,b,c))"
   ]
  },
  {
   "cell_type": "code",
   "execution_count": 4,
   "metadata": {},
   "outputs": [
    {
     "name": "stdout",
     "output_type": "stream",
     "text": [
      "Output #4: 9\n"
     ]
    }
   ],
   "source": [
    "x = 9\n",
    "print(\"Output #4: {0}\".format(x))"
   ]
  },
  {
   "cell_type": "code",
   "execution_count": 13,
   "metadata": {},
   "outputs": [
    {
     "name": "stdout",
     "output_type": "stream",
     "text": [
      "Output #5: 81\n"
     ]
    }
   ],
   "source": [
    "print(\"Output #5: {0}\".format(3**4))"
   ]
  },
  {
   "cell_type": "code",
   "execution_count": 16,
   "metadata": {},
   "outputs": [
    {
     "name": "stdout",
     "output_type": "stream",
     "text": [
      "Output #6: 4.0\n"
     ]
    }
   ],
   "source": [
    "print(\"Output #6: {0}\".format(int(8.3)/int(2.7)))"
   ]
  },
  {
   "cell_type": "code",
   "execution_count": 18,
   "metadata": {},
   "outputs": [
    {
     "name": "stdout",
     "output_type": "stream",
     "text": [
      "Output #7: 3.0741\n"
     ]
    }
   ],
   "source": [
    "print(\"Output #7: {0:.4f}\".format(8.3/2.7)) ## . 뒤에 붙는 숫자 '@'f 에서 @가 숫자 몇개를 보여줄지 결정"
   ]
  },
  {
   "cell_type": "code",
   "execution_count": 21,
   "metadata": {},
   "outputs": [
    {
     "name": "stdout",
     "output_type": "stream",
     "text": [
      "Output #8: 12.0000\n"
     ]
    }
   ],
   "source": [
    "y = 2.5*4.8\n",
    "print(\"Output #8: {0:.4f}\".format(y))"
   ]
  },
  {
   "cell_type": "code",
   "execution_count": 23,
   "metadata": {},
   "outputs": [
    {
     "name": "stdout",
     "output_type": "stream",
     "text": [
      "Output #9: 2.667\n"
     ]
    }
   ],
   "source": [
    "r = 8/float(3)\n",
    "print(\"Output #9: {0:.3f}\".format(r))"
   ]
  },
  {
   "cell_type": "code",
   "execution_count": 24,
   "metadata": {},
   "outputs": [
    {
     "name": "stdout",
     "output_type": "stream",
     "text": [
      "Output #10: 2.6667\n"
     ]
    }
   ],
   "source": [
    "print(\"Output #10: {0:.4f}\".format(8.0/3))"
   ]
  },
  {
   "cell_type": "code",
   "execution_count": 25,
   "metadata": {
    "collapsed": true
   },
   "outputs": [],
   "source": [
    "from math import exp, log, sqrt"
   ]
  },
  {
   "cell_type": "code",
   "execution_count": 26,
   "metadata": {},
   "outputs": [
    {
     "name": "stdout",
     "output_type": "stream",
     "text": [
      "Output #11: 20.0855\n"
     ]
    }
   ],
   "source": [
    "print(\"Output #11: {0:.4f}\".format(exp(3)))"
   ]
  },
  {
   "cell_type": "code",
   "execution_count": 31,
   "metadata": {},
   "outputs": [
    {
     "name": "stdout",
     "output_type": "stream",
     "text": [
      "Output #12: 1.39\n"
     ]
    }
   ],
   "source": [
    "print(\"Output #12: {0:.2f}\".format(log(4)))"
   ]
  },
  {
   "cell_type": "code",
   "execution_count": 36,
   "metadata": {},
   "outputs": [
    {
     "name": "stdout",
     "output_type": "stream",
     "text": [
      "Output #13: 9.0\n"
     ]
    }
   ],
   "source": [
    "print(\"Output #13: {0}\".format(sqrt(81)))"
   ]
  },
  {
   "cell_type": "code",
   "execution_count": 1,
   "metadata": {},
   "outputs": [
    {
     "name": "stdout",
     "output_type": "stream",
     "text": [
      "Output #14: I'm enjoying learning Python\n"
     ]
    }
   ],
   "source": [
    "print(\"Output #14: {0:s}\".format('I\\'m enjoying learning Python'))"
   ]
  },
  {
   "cell_type": "code",
   "execution_count": 3,
   "metadata": {},
   "outputs": [
    {
     "name": "stdout",
     "output_type": "stream",
     "text": [
      "Output #15: This is a long string. Without the backslashit would run off of the page on the right in the text editor and be verydifficult to read and edit.\n"
     ]
    }
   ],
   "source": [
    "print(\"Output #15: {0:s}\".format(\"This is a long string. Without the backslash\\\n",
    "it would run off of the page on the right in the text editor and be very\\\n",
    "difficult to read and edit.\"))"
   ]
  },
  {
   "cell_type": "code",
   "execution_count": 6,
   "metadata": {},
   "outputs": [
    {
     "name": "stdout",
     "output_type": "stream",
     "text": [
      "Output #16: you can use triple single quotes\n",
      "for multi-line comment strings.\n"
     ]
    }
   ],
   "source": [
    "print(\"Output #16: {0:s}\".format('''you can use triple single quotes\n",
    "for multi-line comment strings.'''))"
   ]
  },
  {
   "cell_type": "code",
   "execution_count": 7,
   "metadata": {},
   "outputs": [
    {
     "name": "stdout",
     "output_type": "stream",
     "text": [
      "Output #17: you can also youse triple double quotes\n",
      "for multi - line comment strings.\n"
     ]
    }
   ],
   "source": [
    "print(\"Output #17: {0:s}\".format(\"\"\"you can also youse triple double quotes\n",
    "for multi - line comment strings.\"\"\"))"
   ]
  },
  {
   "cell_type": "code",
   "execution_count": 12,
   "metadata": {},
   "outputs": [
    {
     "name": "stdout",
     "output_type": "stream",
     "text": [
      "Output #21: ['my', 'deliverable', 'is', 'due', 'in', 'May']\n",
      "Output #22: first piece: my second : deliverable third : is due in May\n"
     ]
    }
   ],
   "source": [
    "string1 = \"my deliverable is due in May\"\n",
    "string1_list1 = string1.split()\n",
    "string1_list2 = string1.split(\" \",2)\n",
    "print(\"Output #21: {0}\".format(string1_list1))\n",
    "print(\"Output #22: first piece: {0} second : {1} third : {2}\"\\\n",
    "     .format(string1_list2[0],string1_list2[1],string1_list2[2]))"
   ]
  },
  {
   "cell_type": "markdown",
   "metadata": {
    "collapsed": true
   },
   "source": [
    "## 1.4.3 정규 표현식과 패턴 매칭"
   ]
  },
  {
   "cell_type": "markdown",
   "metadata": {},
   "source": [
    "정규 표현식(regular expression) 패턴매칭 >\n",
    "ex) 서울의 모든 주문에 대한 분석을 실행할 필요가 있다고 가정해보자. 찾고싶은 패턴은 \"서울\"이라는 단어이다. \n",
    "\n",
    "파이썬은 텍스트 내에서 정규 표현식 같은 특정한 패턴을 찾아주는 훌륭한 re 모듈을 포함한다.\n",
    "스크립트 내에서 re 모듈이 제공하는 모든 기능을 이용하기 위해 스크립트 상단에 앞에서 추가한 import문 바로 아래에 import re를 추가."
   ]
  },
  {
   "cell_type": "code",
   "execution_count": 1,
   "metadata": {
    "collapsed": true
   },
   "outputs": [],
   "source": [
    "from math import exp, log, sqrt\n",
    "import re"
   ]
  },
  {
   "cell_type": "markdown",
   "metadata": {},
   "source": [
    "re 모듈을 임포트 함으로써 다양한 종류의 메타 문자와 임의의 복잡한 패턴에 대해 생성 및 검색 기능을 사용할 수 있다.\n",
    "메타 문자(meta character)란 특별한 의미를 지닌 정규 표현식 문자들이다. \n",
    "이러한 문자는 독특한 방식으로 여러가지 문자열과 일치하는 정규 표현식을 이용할 수 있게 도와준다. \n",
    "\n",
    "ex) | , (), [], . , * + ? ^ $ (?P<이름>)\n",
    "\n",
    "> 이러한 문자들은 메타 문자로, 정규 표현식 내에 존재한다면 패턴을 찾으려고 하는 것이다.\n",
    "\n",
    "re모듈은 특정 패턴을 만들거나 찾을 수 있는 몇가지 함수를 포함한다.\n",
    "\n",
    "ex) re.compile, re.search, re.sub, re.ignorecase, re.I"
   ]
  },
  {
   "cell_type": "code",
   "execution_count": 2,
   "metadata": {},
   "outputs": [
    {
     "name": "stdout",
     "output_type": "stream",
     "text": [
      "Output # 38: 2\n"
     ]
    }
   ],
   "source": [
    "string = \"The quick brown fox jumps over the lazy dog.\"\n",
    "string_list = string.split()\n",
    "pattern = re.compile(r\"The\", re.I)\n",
    "count = 0\n",
    "for word in string_list:\n",
    "    if pattern.search(word):  # 만약 단어가 정규 표현식과 일치한다면.!\n",
    "        count += 1\n",
    "print(\"Output # 38: {0:d}\".format(count))"
   ]
  },
  {
   "cell_type": "markdown",
   "metadata": {},
   "source": [
    "re.compile, re.I 함수, 그리고 원시문자열(raw string)임을 나타내는 표기법인 r을 사용했다.\n",
    "\n",
    ">re.compile 함수는 텍스트 기반의 패턴을 정규 표현식으로 컴파일한다.\n",
    "정규 표현식을 컴파일하는 것은 반드시 필요한 일은 아니지만, 프로그램의 속도를 향상시키므로 컴파일을 하는 편이 좋다. \n",
    "\n",
    ">re.I 함수는 패턴이 대/소문자를 구분하지 않도록 해준다.\n",
    "\n",
    ">원시문자열인 r은 파이썬이 문자열 내에서 \\,\\t,\\n 과 같은 특별한 문자들을 따로 처리하지 않도록 해준다.\n",
    "이를 통해서 패턴을 검색할때 문자열의 특수문자와 정규 표현식의 특수문자 사이에서 의도치 않는 해석이 일어나는 것을 막는다. \n",
    "r표기법을 쓰는 것이 좋은 습관이다!\n",
    "\n",
    "re.search 함수는 리스트 내 각 단어에 대해 앞에서 설정한 정규 표현식을 비교하기 위해 사용되었다.\n",
    ">re.search 함수는 해당 단어가 정규 표현식과 일치한다면 True를 출력하고, 그렇지 않다면 none 이나 false를 출력한다. "
   ]
  },
  {
   "cell_type": "code",
   "execution_count": 3,
   "metadata": {},
   "outputs": [
    {
     "name": "stdout",
     "output_type": "stream",
     "text": [
      "Output #39: \n",
      "The\n",
      "the\n"
     ]
    }
   ],
   "source": [
    "string = \"The quick brown fox jumps over the lazy dog.\"\n",
    "string_list = string.split()\n",
    "pattern = re.compile(r\"(?P<match_word>The)\",re.I)\n",
    "print(\"Output #39: \")\n",
    "for word in string_list:\n",
    "    if pattern.search(word):\n",
    "        print(\"{:s}\".format(pattern.search(word).group('match_word')))"
   ]
  },
  {
   "cell_type": "markdown",
   "metadata": {},
   "source": [
    "화면이나 파일에 출력할 문자열들을 찾기 위해서는 (?P<이름>) 이라는 메타문자와 group함수를 사용해야한다. \n",
    "> re.compile 함수 안의 (?P<이름>) 이라는 메타문자에서 \n",
    "<이름> 부분은 그룹명을 뜻하는데, 일치한 문자열을 나중에 프로그램에서 다시 사용할 수 있게 해주는 일종의 변수명이다.\n",
    "이 예제에서는 match_word 라고 사용했다.\n",
    "\n",
    ">search 함수가 반환한 자료구조를 들여다보고 match_word 그룹의 값을 가져온 다음 그 값을 화면에 출력한다."
   ]
  },
  {
   "cell_type": "code",
   "execution_count": 4,
   "metadata": {},
   "outputs": [
    {
     "name": "stdout",
     "output_type": "stream",
     "text": [
      "Output #40: a quick brown fox jumps over a lazy dog.\n"
     ]
    }
   ],
   "source": [
    "string = \"The quick brown fox jumps over the lazy dog.\"\n",
    "string_to_find = r\"The\"\n",
    "pattern = re.compile(string_to_find, re.I)\n",
    "print(\"Output #40: {:s}\".format(pattern.sub(\"a\",string)))"
   ]
  },
  {
   "cell_type": "markdown",
   "metadata": {},
   "source": [
    "re.sub함수를 사용해 텍스트 내의 특정 패턴을 다른 패턴으로 교체한다. \n",
    "\n",
    "re.compile을 하기 전에 정규표현식을 꼭 할당해야만 할 필요가 있는 것은 아니다.\n",
    "하지만 정규 표현식이 매우 길고 복잡하다면 우선 변수에 할당하고, re.compile 함수에는 그 변수를 전달하는 편이 가독성을 높인다.\n",
    "\n",
    "re.sub함수는 string 안에서 원하는 글자를 다른 글자로 바꿀 수 있게 해준다.\n",
    "> pattern.sub(\"a\",string)\n",
    "pattern은 the와 The를 찾았을 것이고, 그것을 a로 바꿔주게 된다."
   ]
  },
  {
   "cell_type": "markdown",
   "metadata": {},
   "source": [
    "## 1.4.4 날짜"
   ]
  },
  {
   "cell_type": "markdown",
   "metadata": {},
   "source": [
    "파이썬은 날짜와 시간 처리용으로 datetime모듈을 제공한다. \n",
    "스크립트에서 datetime이 제공하는 기능을 모두 이용하기 위해 from datetime import date, time, datetime, timedelta를 추가한다."
   ]
  },
  {
   "cell_type": "code",
   "execution_count": 6,
   "metadata": {
    "collapsed": true
   },
   "outputs": [],
   "source": [
    "from math import exp, log, sqrt\n",
    "from datetime import date, time, datetime, timedelta\n",
    "import re"
   ]
  },
  {
   "cell_type": "markdown",
   "metadata": {},
   "source": [
    "datetime 모듈을 import 하면 용도에 따라 다양한 종류의 날자와 시간 객체와 함수를 사용할 수 있다.\n",
    "ex) today, year, month, day, timedelta, strftime, strptime ..\n",
    "\n",
    ">이러한 함수들은 한 날짜의 개별 요소(년, 월, 일)구하기, 어떤 날짜부터 또는 어떤 날짜까지 정확한 시간을 더하거나 빼기, 특정 형식으로 날짜 문자열을 생성하기, 날짜 문자열부터 datetime객체를 생성하기 등을 가능하게 해준다."
   ]
  },
  {
   "cell_type": "code",
   "execution_count": 7,
   "metadata": {},
   "outputs": [
    {
     "name": "stdout",
     "output_type": "stream",
     "text": [
      "Output #41: today: 2018-01-29\n",
      "Output #42: 2018\n",
      "Output #43: 1\n",
      "Output #44: 29\n",
      "Output #45: 2018-01-29 14:33:10.087051\n"
     ]
    }
   ],
   "source": [
    "today = date.today()\n",
    "print(\"Output #41: today: {0!s}\".format(today))\n",
    "print(\"Output #42: {0!s}\".format(today.year))\n",
    "print(\"Output #43: {0!s}\".format(today.month))\n",
    "print(\"Output #44: {0!s}\".format(today.day))\n",
    "current_datetime = datetime.today()\n",
    "print(\"Output #45: {0!s}\".format(current_datetime))"
   ]
  },
  {
   "cell_type": "markdown",
   "metadata": {},
   "source": [
    "date.today 는 년, 월, 일 요소를 포함한다.\n",
    "datetime.today()는 시간요소도 포함하고있다(심지어 초까지)\n",
    "\n",
    "{0!s}에서 !s는 print문에 전달된 값이 숫자 형식일지라도 문자열로 처리하라는 의미이다. "
   ]
  },
  {
   "cell_type": "code",
   "execution_count": 8,
   "metadata": {},
   "outputs": [
    {
     "name": "stdout",
     "output_type": "stream",
     "text": [
      "Output #46: yesterday: 2018-01-28\n",
      "Output #47: -1\n"
     ]
    }
   ],
   "source": [
    "# timedelta 함수를 이용하여 새로운 날짜 계산하기.\n",
    "one_day = timedelta(days =- 1)\n",
    "yesterday = today + one_day\n",
    "print(\"Output #46: yesterday: {0!s}\".format(yesterday))\n",
    "eight_hours = timedelta(hours=-8)\n",
    "print(\"Output #47: {0!s}\".format(eight_hours.days, eight_hours.seconds))"
   ]
  },
  {
   "cell_type": "markdown",
   "metadata": {},
   "source": [
    "timedelta 를 이용할때 염두에 두어야할 점.\n",
    "> timedelta는 날짜, 초, 마이크로 초 등 시간 단위를 저장하고, 고유한 값으로 정규화한다는 점이다. \n",
    "1분 = 60초, 1시간 = 3600초, 1주일 = 7일.\n",
    "그러므로 반드시 일, 초, 마이크로초의 자릿수(column)으로 정규화 되어야 한다는 것을 의미한다. "
   ]
  },
  {
   "cell_type": "code",
   "execution_count": 9,
   "metadata": {},
   "outputs": [
    {
     "name": "stdout",
     "output_type": "stream",
     "text": [
      "Output #48: 1 day, 0:00:00\n",
      "Output #49: 1\n"
     ]
    }
   ],
   "source": [
    "#두 날짜 사이의 날자 차이를 계산하기.\n",
    "date_diff = today - yesterday\n",
    "print(\"Output #48: {0!s}\".format(date_diff))\n",
    "print(\"Output #49: {0!s}\".format(str(date_diff).split()[0]))"
   ]
  },
  {
   "cell_type": "code",
   "execution_count": 11,
   "metadata": {},
   "outputs": [
    {
     "name": "stdout",
     "output_type": "stream",
     "text": [
      "Output #50: 01/29/2018\n",
      "Output #51: Jan 29, 2018\n",
      "Output #52: 2018-01-29\n",
      "Output #53: January 29, 2018\n"
     ]
    }
   ],
   "source": [
    "print(\"Output #50: {:s}\".format(today.strftime('%m/%d/%Y')))\n",
    "print(\"Output #51: {:s}\".format(today.strftime('%b %d, %Y')))\n",
    "print(\"Output #52: {:s}\".format(today.strftime('%Y-%m-%d')))\n",
    "print(\"Output #53: {:s}\".format(today.strftime('%B %d, %Y')))"
   ]
  },
  {
   "cell_type": "markdown",
   "metadata": {},
   "source": [
    "list 부분은 새로운 것을 제외하고는 추가하지 않겠음."
   ]
  },
  {
   "cell_type": "code",
   "execution_count": null,
   "metadata": {
    "collapsed": true
   },
   "outputs": [],
   "source": []
  }
 ],
 "metadata": {
  "kernelspec": {
   "display_name": "Python 3",
   "language": "python",
   "name": "python3"
  },
  "language_info": {
   "codemirror_mode": {
    "name": "ipython",
    "version": 3
   },
   "file_extension": ".py",
   "mimetype": "text/x-python",
   "name": "python",
   "nbconvert_exporter": "python",
   "pygments_lexer": "ipython3",
   "version": "3.6.1"
  }
 },
 "nbformat": 4,
 "nbformat_minor": 2
}
